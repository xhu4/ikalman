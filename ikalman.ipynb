{
 "cells": [
  {
   "cell_type": "markdown",
   "metadata": {
    "slideshow": {
     "slide_type": "slide"
    }
   },
   "source": [
    "# Kalman-Bucy Filter $\\newcommand\\pmatrix[1]{\\begin{pmatrix}#1\\end{pmatrix}}$\n",
    "\n",
    "$\\newcommand\\L{\\mathcal{L}}\n",
    "\\newcommand\\P{\\mathcal{P}}\n",
    "\\newcommand\\K{\\mathcal{K}}$"
   ]
  },
  {
   "cell_type": "markdown",
   "metadata": {
    "slideshow": {
     "slide_type": "slide"
    }
   },
   "source": [
    "## Background"
   ]
  },
  {
   "cell_type": "markdown",
   "metadata": {
    "slideshow": {
     "slide_type": "subslide"
    }
   },
   "source": [
    "### Dynamic System\n",
    "\n",
    "#### Determined\n",
    "- Discrete: $$x_{j+1}=\\Psi(x_j), x_0=m$$\n",
    "- Continuous: $$\\frac{dx}{dt}=b(t, x), x(0)=m$$"
   ]
  },
  {
   "cell_type": "markdown",
   "metadata": {
    "slideshow": {
     "slide_type": "subslide"
    }
   },
   "source": [
    "### Dynamic System\n",
    "\n",
    "#### Stochastic\n",
    "- Discrete: $$x_{j+1}=\\Psi(x_j)+\\xi_j,\\; x_0=\\xi_0$$\n",
    "- Continuous: $$\\frac{dX_t}{dt}=b(t,X_t)+\\sigma\\frac{dB_t}{dt},\\; X_0=M$$"
   ]
  },
  {
   "cell_type": "markdown",
   "metadata": {
    "slideshow": {
     "slide_type": "subslide"
    }
   },
   "source": [
    "**Discrete Example**:\n",
    "$$x_{j+1}=\\pmatrix{0&1\\\\-1&0}x_j + \\sigma z_j,\\; x_0=\\pmatrix{1\\\\1}$$"
   ]
  },
  {
   "cell_type": "code",
   "execution_count": 6,
   "metadata": {
    "slideshow": {
     "slide_type": "skip"
    }
   },
   "outputs": [],
   "source": [
    "from dynamics import dsct, cnts"
   ]
  },
  {
   "cell_type": "code",
   "execution_count": 7,
   "metadata": {
    "scrolled": false,
    "slideshow": {
     "slide_type": "fragment"
    }
   },
   "outputs": [
    {
     "data": {
      "application/vnd.jupyter.widget-view+json": {
       "model_id": "15890eca8d56499e94fcd4c074408f9c",
       "version_major": 2,
       "version_minor": 0
      },
      "text/plain": [
       "HBox(children=(Figure(animation_duration=100, axes=[Axis(label='x', scale=LinearScale(max=2.0, min=-2.0), side…"
      ]
     },
     "metadata": {},
     "output_type": "display_data"
    }
   ],
   "source": [
    "dsct.interact()"
   ]
  },
  {
   "cell_type": "markdown",
   "metadata": {
    "slideshow": {
     "slide_type": "notes"
    }
   },
   "source": [
    "#### Notes:\n",
    "\n",
    "- Red point is $x$ in previous math model.\n",
    "- $x$ and $y$ in plot label simply means $x$- and $y$-coordinates.\n",
    "- Click <button name=\"Observe\">Observe</button> to plot data/observations (Represented by the horizontal red line). See slides in [__Observations/Data__](#Observations/Data).\n",
    "- We can only observe the $y$-coordinate (the height) of our point. Mathematically, $h(x)=\\bmatrix{0&1}x$.\n",
    "- $\\sigma$ controls randomness. Larger $\\sigma$ results in larger perturbation. If set $\\sigma\\ne0$ and then set it back to 0, the perturbation \"stays\" in the system. (I.e., the red point does not go back to the original square, but follows a new square.)\n",
    "- $\\gamma$ controls noise in observations. Larger $\\gamma$ results in larger difference between observation (red line) and $x_2$ ($y$-coordinate of red point)"
   ]
  },
  {
   "cell_type": "markdown",
   "metadata": {
    "slideshow": {
     "slide_type": "subslide"
    }
   },
   "source": [
    "**<a name='Continuous-Example:'/>Continuous Example**:\n",
    "$$\\frac{dX_t}{dt}=\\pmatrix{0&1\\\\-1&0}X_t + \\sigma\\frac{dB_t}{dt},\\; X_0=\\pmatrix{0\\\\1}$$"
   ]
  },
  {
   "cell_type": "code",
   "execution_count": 8,
   "metadata": {
    "scrolled": false,
    "slideshow": {
     "slide_type": "fragment"
    }
   },
   "outputs": [
    {
     "data": {
      "application/vnd.jupyter.widget-view+json": {
       "model_id": "39423d59239345e0a6b1558c4404c8d9",
       "version_major": 2,
       "version_minor": 0
      },
      "text/plain": [
       "HBox(children=(Figure(animation_duration=100, axes=[Axis(label='x', scale=LinearScale(max=3.0, min=-3.0), side…"
      ]
     },
     "metadata": {},
     "output_type": "display_data"
    }
   ],
   "source": [
    "cnts.interact()"
   ]
  },
  {
   "cell_type": "markdown",
   "metadata": {
    "slideshow": {
     "slide_type": "notes"
    }
   },
   "source": [
    "#### More Notes:\n",
    "\n",
    "Same as [here](#Notes:).\n",
    "\n",
    "Read the following slides about observations first.\n",
    "\n",
    "Now set both $\\sigma$ and $\\gamma$ nonzero. Imagine you can only see the horizontal red line (the observation). How can you guess where the red point is?"
   ]
  },
  {
   "cell_type": "markdown",
   "metadata": {
    "slideshow": {
     "slide_type": "subslide"
    }
   },
   "source": [
    "### Observations/Data\n",
    "$$\n",
    "\\newcommand\\F{\\mathcal{F}}\n",
    "\\begin{align}\n",
    "y_j&= h(x_j)+\\eta_j\\\\\n",
    "Y_t&= h(t, X_t)+\\gamma\\frac{dB_t}{dt}\n",
    "\\end{align}\n",
    "$$ "
   ]
  },
  {
   "cell_type": "markdown",
   "metadata": {
    "slideshow": {
     "slide_type": "fragment"
    }
   },
   "source": [
    "**Example:** \n",
    "\n",
    "$\\newcommand\\bmatrix[1]{\\begin{bmatrix}#1\\end{bmatrix}}$ $$h(x) = \\bmatrix{0&1}x$$"
   ]
  },
  {
   "cell_type": "markdown",
   "metadata": {
    "slideshow": {
     "slide_type": "notes"
    }
   },
   "source": [
    "Time to go back to previous examples and click `Observe`."
   ]
  },
  {
   "cell_type": "markdown",
   "metadata": {
    "slideshow": {
     "slide_type": "slide"
    }
   },
   "source": [
    "## Filtering\n",
    "Given a dynamic system + observations:\n",
    "$$\n",
    "\\begin{align}\n",
    "x_{j+1}&=\\Psi(x_j)+\\xi_j & \\frac{dX_t}{dt} &= b(t,X_t) + \\sigma(t,X_t)\\frac{dU_t}{dt}\\\\\n",
    "y_j    &= h(x_j)+\\eta_j  &             Y_t &= h(t,X_t) + \\gamma(t,X_t)\\frac{dV_t}{dt}\n",
    "\\end{align}\n",
    "$$"
   ]
  },
  {
   "cell_type": "markdown",
   "metadata": {
    "slideshow": {
     "slide_type": "subslide"
    }
   },
   "source": [
    "Find information of $x$ at current time, given all the data before and at current time.\n",
    "\n",
    "- Discrete:\n",
    "$$P(x_j|Y_j),\\; Y_j=\\{y_0, y_1, \\ldots, y_j\\}$$\n",
    "- Continuous:\n",
    "$$E[X_t|\\F_t]$$\n",
    "where $\\F_t$ is the $\\sigma$-algebra generated by $\\{Y_s, s\\le t\\}$"
   ]
  },
  {
   "cell_type": "markdown",
   "metadata": {
    "slideshow": {
     "slide_type": "subslide"
    }
   },
   "source": [
    "### Stochastic Settings\n",
    "\n",
    "Let's consider the continuous case only:\n",
    "$$\n",
    "\\begin{align}\n",
    "\\frac{dX_t}{dt} &= b(t,X_t) + \\sigma(t, X_t)\\frac{dU_t}{dt}\\\\\n",
    "            Y_t &= h(t,X_t) + \\gamma(t, X_t)\\frac{dV_t}{dt}\n",
    "\\end{align}\n",
    "$$\n",
    "If we let $Z_t = \\int_0^tY_sds$, then the above system can be rephrased as an SDE system:\n",
    "$$\n",
    "\\begin{align}\n",
    "dX_t &= b(t, X_t)dt + \\sigma(t, X_t)dU_t\\\\\n",
    "dZ_t &= h(t, X_t)dt + \\gamma(t, X_t)dV_t\n",
    "\\end{align}\n",
    "$$\n",
    "Solve for $E[X_t|\\F_t]$."
   ]
  },
  {
   "cell_type": "markdown",
   "metadata": {
    "slideshow": {
     "slide_type": "slide"
    }
   },
   "source": [
    "## Kalman Filter\n"
   ]
  },
  {
   "cell_type": "markdown",
   "metadata": {
    "slideshow": {
     "slide_type": "subslide"
    }
   },
   "source": [
    "### 1D Linear Filtering Problem\n",
    "\n",
    "Consider the 1-dimensional linear filtering problem\n",
    "\n",
    "$$\n",
    "\\newcommand\\R{\\mathbb{R}}\n",
    "\\begin{align}\n",
    "dX_t&= F(t)X_tdt+C(t)dU_t;\\;F(t), C(t)\\in\\R\\\\\n",
    "dZ_t&= G(t)X_tdt+D(t)dV_t;\\;G(t), D(t)\\in\\R\n",
    "\\end{align}\n",
    "$$\n",
    "\n",
    "Also we assume\n",
    "$$X_0\\sim N,\\; Z_0=0,\\; \\lvert D(t)\\rvert>\\epsilon>0$$\n",
    "\n",
    "Need to find: $E[X_t|\\F_t]$"
   ]
  },
  {
   "cell_type": "markdown",
   "metadata": {
    "slideshow": {
     "slide_type": "subslide"
    }
   },
   "source": [
    "#### Definitions: \n",
    "\n",
    "\n",
    "- $\\F_t:=\\sigma(\\{Z_s\\mid 0\\le s\\le t\\})$\n",
    "- $\\L=\\L_t=\\L(Z,t):=$ the closure in $L^2$ of all linear combinations:\n",
    "$$c_0+c_1Z_{t_1}+c_2Z_{t_2}+\\cdots+c_kZ_{t_k};\\;0\\le t_i\\le t, c_j\\in\\R\\;.$$\n",
    "\n",
    "- $\\K=\\K_t=\\K(Z,t):= \\{\\text{all $\\F_t$ measurable RV's in $L^2$}\\}$ \n",
    "- $\\P_\\L(X):=$ the projection of $X$ onto space $\\L$.\n",
    "\n",
    "where $L^2=L^2(\\Omega, P)$"
   ]
  },
  {
   "cell_type": "markdown",
   "metadata": {
    "slideshow": {
     "slide_type": "subslide"
    }
   },
   "source": [
    "#### Fact 1: $E[X_t|\\F_t]=\\P_\\K(X_t)=\\P_\\L(X_t)$\n",
    "\n",
    "*Proof (Sketch):*\n",
    "\n",
    "$\\newcommand\\hX{\\hat{X}}\n",
    "\\newcommand\\tX{\\tilde{X}}$\n",
    "Let $\\hX=\\P_\\L(X)$, and let $\\tX=X-\\hX$. Then $\\tX$ is orthogonal to every element in $\\L$:\n",
    "\n",
    "$$ E[\\tX Z_s] = 0\\;. $$\n",
    "\n",
    "I.e., $\\tX$ and $Z_s$ are uncorrelated. Since $X, Z_s$ are Gaussian process, $\\tX$ is Gaussian. Then uncorrelated means independence. \n",
    "\n",
    "$\\tX$ is independent of $\\K$. Therefore $\\tX=\\P_\\K(X)$"
   ]
  },
  {
   "cell_type": "markdown",
   "metadata": {
    "slideshow": {
     "slide_type": "subslide"
    }
   },
   "source": [
    "#### $\\L(Z,t)$\n",
    "\n",
    "Closure of all\n",
    "\n",
    "$$\n",
    "\\begin{align}\n",
    " &c_0 + c_1Z_{t_1} + c_2Z_{t_2} + \\cdots + c_kZ_{t_k}\\\\\n",
    "=&c_0 + d_1\\Delta Z_{t_1} + d_2\\Delta Z_{t_2} + \\cdots + d_k\\Delta Z_{t_k}\\\\\n",
    "\\to&c_0 + \\int_0^tf(s)dZ_s\n",
    "\\end{align}\n",
    "$$"
   ]
  },
  {
   "cell_type": "markdown",
   "metadata": {
    "slideshow": {
     "slide_type": "fragment"
    }
   },
   "source": [
    "#### Idea\n",
    "Basis ($\\{d Z_{t_i}\\}$) $\\longrightarrow$ Orthogonal Basis $\\{d N_{t_i}\\}$ $\\longrightarrow$ Orthonormal Basis $\\{d R_{t_i}\\}$"
   ]
  },
  {
   "cell_type": "markdown",
   "metadata": {
    "slideshow": {
     "slide_type": "subslide"
    }
   },
   "source": [
    "#### Find Orthogonal Basis $dN_t$\n",
    "\n",
    "$$dN_t = dZ_t - \\P_\\L(dZ_t)\\;, N_0=0\\;.$$\n",
    "\n",
    "Recall: $$dZ_t = G(t)X_tdt+D(t)dV_t,$$ and $dV_t$ is independent of $\\K_t$.\n",
    "\n",
    "Thus $$\\P_\\L(dZ_t)=G(t)\\hX_tdt\\;,$$\n",
    "$$\n",
    "\\begin{align}\n",
    "dN_t &= dZ_t-G(t)\\hX_tdt\\\\\n",
    "&=G(t)(X_t-\\hX_t)dt+D(t)dV_t\n",
    "\\end{align}\n",
    "$$"
   ]
  },
  {
   "cell_type": "markdown",
   "metadata": {
    "slideshow": {
     "slide_type": "subslide"
    }
   },
   "source": [
    "#### Properties of $N_t$\n",
    "\n",
    "1. $E[N_t-N_s|\\K_s]=0$ (Orthogonal increments.)\n",
    "4. $\\L(N,t)=\\L(Z,t)$\n",
    "2. $E[N_t^2]=\\int_0^tD^2(s)ds$\n",
    "3. $N_t$ is Gaussian\n",
    "\n",
    "First two: $\\{dN_t\\}$ is an orthogonal basis.\n",
    "\n",
    "1 + 3 + 4: $N_t$ is *almost* a Brownian."
   ]
  },
  {
   "cell_type": "markdown",
   "metadata": {
    "slideshow": {
     "slide_type": "subslide"
    }
   },
   "source": [
    "#### Normalize $dN_t$\n",
    "\n",
    "If we let\n",
    "\n",
    "$$ dR_t = \\frac{1}{D(t)}dN_t;\\; t\\ge0, R_0=0\\;, $$\n",
    "\n",
    "Then\n",
    "\n",
    "1. $R_t$ is a Brownian motion;\n",
    "2. $\\L(N, t)=\\L(R, t)$."
   ]
  },
  {
   "cell_type": "markdown",
   "metadata": {
    "slideshow": {
     "slide_type": "subslide"
    }
   },
   "source": [
    "#### $E[X_t|\\F_t]$\n",
    "\n",
    "$$\n",
    "\\begin{align}\n",
    "\\hX_t &= E[X_t|\\F_t] \\\\\n",
    "&= \\P_\\K(X_t) = \\P_{\\L(R,t)}(X_t)\\\\\n",
    "&= E[X_t] + \\int_0^t\\frac{\\partial}{\\partial s}E[X_tR_s]dR_s\\;.\n",
    "\\end{align}\n",
    "$$"
   ]
  },
  {
   "cell_type": "markdown",
   "metadata": {
    "slideshow": {
     "slide_type": "slide"
    }
   },
   "source": [
    "### Kalman-Bucy Filter\n",
    "\n",
    "**Theorem**: The solution $\\hX_t=E[X_t|\\F_t]$ of the 1D linear filtering problem satisfies the stochastic differential equation:\n",
    "\n",
    "$$ d\\hX_t=\\left(F(t)-\\frac{G^2(t)S(t)}{D^2(t)}\\right)\\hX_tdt+\\frac{G(t)S(t)}{D^2(t)}dZ_t,\\; \\hX_0=E[X_0]$$\n",
    "\n",
    "where $S(t)=E[(X_t-\\hX_t)^2]=E[(E[\\hX_t]-\\hX_t)^2]$ is the variance of $\\hX_t$ and satisfies the *Riccati equation*\n",
    "\n",
    "$$\\frac{dS}{dt}=2F(t)S(t)-\\frac{G^2(t)}{D^2(t)}S^2(t)+C^2(t)\\;.$$"
   ]
  },
  {
   "cell_type": "markdown",
   "metadata": {
    "slideshow": {
     "slide_type": "subslide"
    }
   },
   "source": [
    "#### Multi-Dimensional Kalman-Bucy Filter\n",
    "\n",
    "Theorem: The solution $\\hX_t=E[X_t|\\F_t]$ of the 1D linear filtering problem satisfies the stochastic differential equation:\n",
    "\n",
    "$$ d\\hX_t=\\left(F-SG^T(DD^T)^{-1}G\\right)\\hX_tdt+SG^T(DD^T)^{-1}dZ_t,\\; \\hX_0=E[X_0]$$\n",
    "\n",
    "where $S(t)=E[(X_t-\\hX_t)(X_t-\\hX_t)^T]$ is the covariance matrix and satisfies the *Riccati equation*\n",
    "\n",
    "$$\\frac{dS}{dt}=FS+SF^T-SG^T(DD^T)^{-1}S+CC^T\\;.$$"
   ]
  },
  {
   "cell_type": "code",
   "execution_count": 9,
   "metadata": {
    "slideshow": {
     "slide_type": "notes"
    }
   },
   "outputs": [],
   "source": [
    "from dynamics import show_result, do_filter, plot_error\n",
    "import numpy as np"
   ]
  },
  {
   "cell_type": "code",
   "execution_count": 10,
   "metadata": {
    "slideshow": {
     "slide_type": "slide"
    }
   },
   "outputs": [],
   "source": [
    "do_filter(init_guess=[50,50],S0=np.eye(2)*50, ic=[0, -1], sigma=.1, gamma=.1, dt=0.05)"
   ]
  },
  {
   "cell_type": "markdown",
   "metadata": {
    "slideshow": {
     "slide_type": "notes"
    }
   },
   "source": [
    "About this function call:\n",
    "\n",
    "- `init_guess`: initial guess.\n",
    "- `ic`: true initial condition.\n",
    "- `sigma`: $\\sigma$ in [continuous example](#Continuous-Example:).\n",
    "- `gamma`: $\\gamma$ in [observations](#Observations/Data)\n",
    "- `dt`: length of timeinterval for simulation.\n",
    "\n",
    "Feel free to modify inputs and rerun the above function. You also need to rerun the following functions to see the result.\n",
    "\n",
    "Remember to adjust the `lim` parameter in `show_result()` if you want to play with different parameters."
   ]
  },
  {
   "cell_type": "code",
   "execution_count": 11,
   "metadata": {
    "slideshow": {
     "slide_type": "fragment"
    }
   },
   "outputs": [
    {
     "data": {
      "application/vnd.jupyter.widget-view+json": {
       "model_id": "83d7b80119994e14b954b06723c65da4",
       "version_major": 2,
       "version_minor": 0
      },
      "text/plain": [
       "HBox(children=(Figure(animation_duration=100, axes=[Axis(label='x', scale=LinearScale(max=5.0, min=-5.0)), Axi…"
      ]
     },
     "metadata": {},
     "output_type": "display_data"
    }
   ],
   "source": [
    "show_result(lim=5) # Change lim for different plot limits."
   ]
  },
  {
   "cell_type": "markdown",
   "metadata": {
    "slideshow": {
     "slide_type": "notes"
    }
   },
   "source": [
    "Green dot is the guess of where red point is.\n",
    "\n",
    "If you haven't modified the above function yet, the initial guess is `[50,50]` and is outside of the plot. But after only a few timesteps, the guess will get pretty close to true state (red dot)."
   ]
  },
  {
   "cell_type": "code",
   "execution_count": 12,
   "metadata": {
    "slideshow": {
     "slide_type": "subslide"
    }
   },
   "outputs": [
    {
     "data": {
      "application/vnd.jupyter.widget-view+json": {
       "model_id": "1bcbcc3994c14897ad2a6dbe4b0b5865",
       "version_major": 2,
       "version_minor": 0
      },
      "text/plain": [
       "Figure(axes=[Axis(label='t', scale=LinearScale()), Axis(label='error', orientation='vertical', scale=LinearSca…"
      ]
     },
     "metadata": {},
     "output_type": "display_data"
    }
   ],
   "source": [
    "plot_error()"
   ]
  },
  {
   "cell_type": "markdown",
   "metadata": {},
   "source": [
    "If everything works as expected, you'll see an error that starts large (if initial guess is bad), but shrinks fast, and stays small.\n",
    "\n",
    "Impressive?"
   ]
  }
 ],
 "metadata": {
  "celltoolbar": "Slideshow",
  "kernelspec": {
   "display_name": "Python 3",
   "language": "python",
   "name": "python3"
  },
  "language_info": {
   "codemirror_mode": {
    "name": "ipython",
    "version": 3
   },
   "file_extension": ".py",
   "mimetype": "text/x-python",
   "name": "python",
   "nbconvert_exporter": "python",
   "pygments_lexer": "ipython3",
   "version": "3.6.7"
  }
 },
 "nbformat": 4,
 "nbformat_minor": 2
}
